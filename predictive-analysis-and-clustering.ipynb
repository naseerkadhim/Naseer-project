{
 "cells": [
  {
   "cell_type": "markdown",
   "metadata": {},
   "source": [
    "# AAA Northeast Customer Clustering"
   ]
  },
  {
   "cell_type": "code",
   "execution_count": 51,
   "metadata": {},
   "outputs": [],
   "source": [
    "%matplotlib inline\n",
    "import numpy as np\n",
    "import pandas as pd\n",
    "import matplotlib.pyplot as plt\n",
    "import matplotlib as plt2"
   ]
  },
  {
   "cell_type": "code",
   "execution_count": 2,
   "metadata": {},
   "outputs": [
    {
     "name": "stdout",
     "output_type": "stream",
     "text": [
      "<class 'pandas.core.frame.DataFrame'>\n",
      "RangeIndex: 3511 entries, 0 to 3510\n",
      "Columns: 237 entries, Household Key to x5_Young City Solos\n",
      "dtypes: float64(237)\n",
      "memory usage: 6.3 MB\n"
     ]
    }
   ],
   "source": [
    "df = pd.read_csv('processed_data.csv')\n",
    "df.info()"
   ]
  },
  {
   "cell_type": "code",
   "execution_count": 3,
   "metadata": {},
   "outputs": [
    {
     "data": {
      "text/plain": [
       "Index(['Household Key', 'Member Key count', 'Length Of Residence mean',\n",
       "       'Do Not Direct Mail Solicit mean', 'Email Available mean',\n",
       "       'ERS ENT Count Year 1 sum', 'ERS ENT Count Year 1 mean',\n",
       "       'ERS ENT Count Year 2 sum', 'ERS ENT Count Year 2 mean',\n",
       "       'ERS ENT Count Year 3 sum', 'ERS ENT Count Year 3 mean',\n",
       "       'ERS Member Cost Year 1 sum', 'ERS Member Cost Year 1 mean',\n",
       "       'ERS Member Cost Year 2 sum', 'ERS Member Cost Year 2 mean',\n",
       "       'ERS Member Cost Year 3 sum', 'ERS Member Cost Year 3 mean',\n",
       "       'Member Tenure Years mean', 'Cost 2014 sum', 'Cost 2015 sum',\n",
       "       'Cost 2016 sum', 'Cost 2017 sum', 'Cost 2018 sum', 'Cost 2019 sum',\n",
       "       'Total Cost sum', 'Mail Responder mean', 'Number of Children mean',\n",
       "       'Income mean', 'Credit Ranges mean', 'AssociateMember sum'],\n",
       "      dtype='object')"
      ]
     },
     "execution_count": 3,
     "metadata": {},
     "output_type": "execute_result"
    }
   ],
   "source": [
    "df.columns[:30]"
   ]
  },
  {
   "cell_type": "code",
   "execution_count": 4,
   "metadata": {},
   "outputs": [],
   "source": [
    "df = df.rename(columns = {'FSV CMSI Flag': 'FSV CMSI', \n",
    "                          'FSV Credit Card Flag': 'FSV Credit Card', \n",
    "                          'FSV Deposit Program Flag': 'FSV Deposit Program', \n",
    "                          'FSV Home Equity Flag': 'FSV Home Equity',\n",
    "                          'FSV ID Theft Flag': 'FSV ID Theft',\n",
    "                          'FSV Mortgage Flag': 'FSV Mortgage',\n",
    "                          'INS Client Flag': 'INS Client', \n",
    "                          'TRV Globalware Flag': 'TRV Globalware',\n",
    "                          'New Mover Flag': 'New Mover'})"
   ]
  },
  {
   "cell_type": "markdown",
   "metadata": {},
   "source": [
    "## Data Exploration\n",
    "### Product Usage\n",
    "Only a small portion of households using the products. The most used product has lower than 30% of the usage."
   ]
  },
  {
   "cell_type": "code",
   "execution_count": 5,
   "metadata": {},
   "outputs": [],
   "source": [
    "product_list = ['FSV CMSI', 'FSV Credit Card', 'FSV Deposit Program', \n",
    "                'FSV Home Equity', 'FSV ID Theft', 'FSV Mortgage',\n",
    "                'INS Client', 'TRV Globalware', 'New Mover']"
   ]
  },
  {
   "cell_type": "code",
   "execution_count": 6,
   "metadata": {},
   "outputs": [
    {
     "data": {
      "image/png": "[encoded data removed]",
      "text/plain": [
       "<Figure size 432x288 with 1 Axes>"
      ]
     },
     "metadata": {
      "needs_background": "light"
     },
     "output_type": "display_data"
    }
   ],
   "source": [
    "#plt.rcParams[\"figure.figsize\"] = [4,6]\n",
    "df_product_pct = pd.DataFrame({'Percent of Usage': df[product_list].mean()}\n",
    "                             ).join(pd.DataFrame({'Count of Usage': df[product_list].sum()}))\n",
    "df_product_pct[['Percent of Usage']].sort_values(['Percent of Usage']).plot(kind='barh')\n",
    "plt.show()"
   ]
  },
  {
   "cell_type": "markdown",
   "metadata": {},
   "source": [
    "Around 45% of the households do not use any products from AAA Northeast."
   ]
  },
  {
   "cell_type": "code",
   "execution_count": 7,
   "metadata": {},
   "outputs": [
    {
     "data": {
      "text/plain": [
       "0.0    1589\n",
       "1.0    1220\n",
       "2.0     539\n",
       "3.0     135\n",
       "4.0      25\n",
       "5.0       3\n",
       "dtype: int64"
      ]
     },
     "execution_count": 7,
     "metadata": {},
     "output_type": "execute_result"
    }
   ],
   "source": [
    "# Number of products bought by household\n",
    "df[product_list].sum(axis=1).value_counts()"
   ]
  },
  {
   "cell_type": "code",
   "execution_count": 8,
   "metadata": {},
   "outputs": [
    {
     "data": {
      "text/plain": [
       "0.4525776132156081"
      ]
     },
     "execution_count": 8,
     "metadata": {},
     "output_type": "execute_result"
    }
   ],
   "source": [
    "1589/3511"
   ]
  },
  {
   "cell_type": "markdown",
   "metadata": {},
   "source": [
    "## Predictive Analysis\n",
    "We could use classification models to predict the probability of an household buying a product on the products with more than 1% of household usage. The models build on these products should have be better in generalization than other low-usage products.\n",
    "\n",
    "For all products with over 5% user, apply the following process for modeling:\n",
    "- Upsampling\n",
    "- Create training & test set based on upsampled dataset\n",
    "- Grid search using Decision Tree (Set the max of depth to 10 instead of None to avoid overfitting)\n",
    "- Apply bagging with 100 estimators using decision tree and best parameters"
   ]
  },
  {
   "cell_type": "code",
   "execution_count": 9,
   "metadata": {},
   "outputs": [],
   "source": [
    "from sklearn.utils import resample\n",
    "from sklearn.model_selection import train_test_split\n",
    "\n",
    "from sklearn.tree import DecisionTreeClassifier\n",
    "from sklearn.ensemble import BaggingClassifier\n",
    "\n",
    "from sklearn.model_selection import GridSearchCV\n",
    "from sklearn.metrics import accuracy_score\n",
    "from sklearn.metrics import roc_auc_score"
   ]
  },
  {
   "cell_type": "code",
   "execution_count": 10,
   "metadata": {
    "scrolled": false
   },
   "outputs": [
    {
     "name": "stdout",
     "output_type": "stream",
     "text": [
      "==== FSV CMSI ====\n",
      "1.0    3221\n",
      "0.0    3221\n",
      "Name: FSV CMSI, dtype: int64\n",
      "\n",
      "== Decision Tree ==\n",
      "Best Parameters: {'criterion': 'gini', 'max_depth': 12, 'min_samples_split': 2}\n",
      "Accuracy on Training Set: 0.8616372077255564\n",
      "Accuracy on Test Set: 0.8626842513576416 AUC: 0.9076279551254274\n",
      "Accuracy on Original Dataset: 0.8245514098547423 AUC: 0.9405887013028724\n",
      "\n",
      "== Decision Tree + Bagging ==\n",
      "Accuracy on Training Set: 0.9625460896565108\n",
      "Accuracy on Test Set: 0.9262994569433669 AUC: 0.988080793490298\n",
      "Accuracy on Original Dataset: 0.9441754485901452 AUC: 0.9904527400999903\n",
      "Prediction Count:\n",
      "0.0    3049\n",
      "1.0     462\n",
      "dtype: int64 \n",
      "\n",
      "==== FSV Credit Card ====\n",
      "1.0    3033\n",
      "0.0    3033\n",
      "Name: FSV Credit Card, dtype: int64\n",
      "\n",
      "== Decision Tree ==\n",
      "Best Parameters: {'criterion': 'gini', 'max_depth': 12, 'min_samples_split': 2}\n",
      "Accuracy on Training Set: 0.7471162686995021\n",
      "Accuracy on Test Set: 0.7471169686985173 AUC: 0.8085759494529772\n",
      "Accuracy on Original Dataset: 0.7413842210196525 AUC: 0.8631928148801123\n",
      "\n",
      "== Decision Tree + Bagging ==\n",
      "Accuracy on Training Set: 0.9167353668590272\n",
      "Accuracy on Test Set: 0.8558484349258649 AUC: 0.9603120106174803\n",
      "Accuracy on Original Dataset: 0.8461976644830532 AUC: 0.9739014494672963\n",
      "Prediction Count:\n",
      "0.0    2533\n",
      "1.0     978\n",
      "dtype: int64 \n",
      "\n",
      "==== FSV Deposit Program ====\n",
      "1.0    3488\n",
      "0.0    3488\n",
      "Name: FSV Deposit Program, dtype: int64\n",
      "\n",
      "== Decision Tree ==\n",
      "Best Parameters: {'criterion': 'entropy', 'max_depth': 12, 'min_samples_split': 4}\n",
      "Accuracy on Training Set: 0.9315412186379929\n",
      "Accuracy on Test Set: 0.8989971346704871 AUC: 0.9425753893646194\n",
      "Accuracy on Original Dataset: 0.8185702079179721 AUC: 0.9520405364978062\n",
      "\n",
      "== Decision Tree + Bagging ==\n",
      "Accuracy on Training Set: 0.9505376344086022\n",
      "Accuracy on Test Set: 0.9563037249283668 AUC: 0.999825535094129\n",
      "Accuracy on Original Dataset: 0.9040159498718314 AUC: 0.9994889309932191\n",
      "Prediction Count:\n",
      "0.0    3151\n",
      "1.0     360\n",
      "dtype: int64 \n",
      "\n",
      "==== FSV Home Equity ====\n",
      "1.0    3508\n",
      "0.0    3508\n",
      "Name: FSV Home Equity, dtype: int64\n",
      "\n",
      "== Decision Tree ==\n",
      "Best Parameters: {'criterion': 'gini', 'max_depth': 8, 'min_samples_split': 4}\n",
      "Accuracy on Training Set: 1.0\n",
      "Accuracy on Test Set: 1.0 AUC: 1.0\n",
      "Accuracy on Original Dataset: 1.0 AUC: 1.0\n",
      "\n",
      "== Decision Tree + Bagging ==\n",
      "Accuracy on Training Set: 1.0\n",
      "Accuracy on Test Set: 1.0 AUC: 1.0\n",
      "Accuracy on Original Dataset: 1.0 AUC: 1.0\n",
      "Prediction Count:\n",
      "0.0    3508\n",
      "1.0       3\n",
      "dtype: int64 \n",
      "\n",
      "==== FSV ID Theft ====\n",
      "1.0    3307\n",
      "0.0    3307\n",
      "Name: FSV ID Theft, dtype: int64\n",
      "\n",
      "== Decision Tree ==\n",
      "Best Parameters: {'criterion': 'gini', 'max_depth': 12, 'min_samples_split': 2}\n",
      "Accuracy on Training Set: 0.826496088081098\n",
      "Accuracy on Test Set: 0.8276643990929705 AUC: 0.8685857736378553\n",
      "Accuracy on Original Dataset: 0.6946738820848761 AUC: 0.8797885649572802\n",
      "\n",
      "== Decision Tree + Bagging ==\n",
      "Accuracy on Training Set: 0.9043659043659044\n",
      "Accuracy on Test Set: 0.8888888888888888 AUC: 0.9935783464584923\n",
      "Accuracy on Original Dataset: 0.814013101680433 AUC: 0.9948401192953747\n",
      "Prediction Count:\n",
      "0.0    2654\n",
      "1.0     857\n",
      "dtype: int64 \n",
      "\n",
      "==== FSV Mortgage ====\n",
      "1.0    3500\n",
      "0.0    3500\n",
      "Name: FSV Mortgage, dtype: int64\n",
      "\n",
      "== Decision Tree ==\n",
      "Best Parameters: {'criterion': 'entropy', 'max_depth': 12, 'min_samples_split': 3}\n",
      "Accuracy on Training Set: 0.9932142857142857\n",
      "Accuracy on Test Set: 0.99 AUC: 0.9948224489795918\n",
      "Accuracy on Original Dataset: 0.9866135004272287 AUC: 0.9975324675324675\n",
      "\n",
      "== Decision Tree + Bagging ==\n",
      "Accuracy on Training Set: 0.9994642857142857\n",
      "Accuracy on Test Set: 0.9978571428571429 AUC: 1.0\n",
      "Accuracy on Original Dataset: 0.9982910851609228 AUC: 0.9999999999999999\n",
      "Prediction Count:\n",
      "0.0    3494\n",
      "1.0      17\n",
      "dtype: int64 \n",
      "\n",
      "==== INS Client ====\n",
      "1.0    2522\n",
      "0.0    2522\n",
      "Name: INS Client, dtype: int64\n",
      "\n",
      "== Decision Tree ==\n",
      "Best Parameters: {'criterion': 'gini', 'max_depth': 12, 'min_samples_split': 2}\n",
      "Accuracy on Training Set: 0.6721189591078067\n",
      "Accuracy on Test Set: 0.666005946481665 AUC: 0.7424053119597673\n",
      "Accuracy on Original Dataset: 0.7339789233836513 AUC: 0.8085971860168435\n",
      "\n",
      "== Decision Tree + Bagging ==\n",
      "Accuracy on Training Set: 0.9635687732342008\n",
      "Accuracy on Test Set: 0.8126858275520317 AUC: 0.8874155272670123\n",
      "Accuracy on Original Dataset: 0.9151238963258331 AUC: 0.9535976230205536\n",
      "Prediction Count:\n",
      "0.0    2596\n",
      "1.0     915\n",
      "dtype: int64 \n",
      "\n",
      "==== TRV Globalware ====\n",
      "1.0    2882\n",
      "0.0    2882\n",
      "Name: TRV Globalware, dtype: int64\n",
      "\n",
      "== Decision Tree ==\n",
      "Best Parameters: {'criterion': 'gini', 'max_depth': 12, 'min_samples_split': 2}\n",
      "Accuracy on Training Set: 0.6909587006437088\n",
      "Accuracy on Test Set: 0.6947094535993061 AUC: 0.749617875024071\n",
      "Accuracy on Original Dataset: 0.6029621190544004 AUC: 0.7911147972890227\n",
      "\n",
      "== Decision Tree + Bagging ==\n",
      "Accuracy on Training Set: 0.9188896117978747\n",
      "Accuracy on Test Set: 0.8378143972246314 AUC: 0.9447513479684191\n",
      "Accuracy on Original Dataset: 0.8592993449159784 AUC: 0.9650580490275147\n",
      "Prediction Count:\n",
      "0.0    2468\n",
      "1.0    1043\n",
      "dtype: int64 \n",
      "\n",
      "==== New Mover ====\n",
      "1.0    3320\n",
      "0.0    3320\n",
      "Name: New Mover, dtype: int64\n",
      "\n",
      "== Decision Tree ==\n",
      "Best Parameters: {'criterion': 'gini', 'max_depth': 12, 'min_samples_split': 4}\n",
      "Accuracy on Training Set: 0.8529686262629484\n",
      "Accuracy on Test Set: 0.8253012048192772 AUC: 0.8997722818986791\n",
      "Accuracy on Original Dataset: 0.7712902307035032 AUC: 0.923843278874661\n",
      "\n",
      "== Decision Tree + Bagging ==\n",
      "Accuracy on Training Set: 0.9855045180722891\n",
      "Accuracy on Test Set: 0.963855421686747 AUC: 0.994547466976339\n",
      "Accuracy on Original Dataset: 0.9706636285958417 AUC: 0.9976550179776699\n",
      "Prediction Count:\n",
      "0.0    3221\n",
      "1.0     290\n",
      "dtype: int64 \n",
      "\n",
      "Wall time: 2min 29s\n"
     ]
    }
   ],
   "source": [
    "%%time\n",
    "df_prob = pd.DataFrame()\n",
    "lst_test_auc_dt = []\n",
    "lst_test_auc = []\n",
    "lst_total_auc = []\n",
    "for prod in product_list:\n",
    "    # Up Sampling\n",
    "    # Separate majority and minority classes\n",
    "    df_majority = df[df[prod]==0]\n",
    "    df_minority = df[df[prod]==1]\n",
    "\n",
    "    # Upsample minority class\n",
    "    df_minority_upsampled = resample(df_minority, \n",
    "                                     replace=True,     # sample with replacement\n",
    "                                     n_samples=len(df_majority),    # to match majority class\n",
    "                                     random_state=72) # reproducible results\n",
    "\n",
    "    # Combine majority class with upsampled minority class\n",
    "    df_upsampled = pd.concat([df_majority, df_minority_upsampled])\n",
    "\n",
    "    # Display new class counts\n",
    "    print('====', prod, '====')\n",
    "    print(df_upsampled[prod].value_counts())\n",
    "    \n",
    "    # X - exclude total costs as it will be used for clustering\n",
    "    cols = [x for x in df_upsampled.columns if (x not in product_list\n",
    "                                               ) & (x not in ['Household Key', 'Total Cost sum'])]\n",
    "    X = df_upsampled[cols]\n",
    "\n",
    "    # y\n",
    "    y = df_upsampled[prod]\n",
    "        \n",
    "    # Training and testing sets    \n",
    "    X_train, X_test, y_train, y_test = train_test_split(X, y,\n",
    "                                                        test_size=0.2,\n",
    "                                                        stratify=y,\n",
    "                                                        random_state=75)\n",
    "    \n",
    "    # Train Decision Tree\n",
    "    param_grid = {'criterion': ['gini', 'entropy'],\n",
    "                  'max_depth': [8, 10, 12],\n",
    "                  'min_samples_split': [2, 3, 4]}\n",
    "    \n",
    "    gs_dt = GridSearchCV(DecisionTreeClassifier(), param_grid, cv=5)\n",
    "    gs_dt.fit(X_train, y_train)\n",
    "    print(\"\\n== Decision Tree ==\")\n",
    "    print(\"Best Parameters:\", gs_dt.best_params_)\n",
    "    print(\"Accuracy on Training Set:\", gs_dt.best_score_)\n",
    "\n",
    "    y_pred_prob = gs_dt.predict_proba(X_test)[:,1]\n",
    "    print(\"Accuracy on Test Set:\", gs_dt.score(X_test, y_test), \n",
    "          \"AUC:\", roc_auc_score(y_test, y_pred_prob))\n",
    "    \n",
    "    y_pred_prob = gs_dt.predict_proba(df[cols])[:,1]\n",
    "    test_auc_dt = roc_auc_score(df[prod], y_pred_prob)\n",
    "    print(\"Accuracy on Original Dataset:\", gs_dt.score(df[cols], df[prod]), \n",
    "          \"AUC:\", test_auc_dt)\n",
    "    \n",
    "    # Train Bagging \n",
    "    dt = DecisionTreeClassifier(criterion=gs_dt.best_estimator_.criterion,\n",
    "                                max_depth=gs_dt.best_estimator_.max_depth,\n",
    "                                min_samples_split=gs_dt.best_estimator_.min_samples_split)\n",
    "    bg =  BaggingClassifier(dt, n_estimators = 100)\n",
    "    bg.fit(X_train, y_train)\n",
    "    print(\"\\n== Decision Tree + Bagging ==\")\n",
    "    print(\"Accuracy on Training Set:\", bg.score(X_train, y_train))\n",
    "\n",
    "    y_pred_prob = bg.predict_proba(X_test)[:,1]\n",
    "    test_auc = roc_auc_score(y_test, y_pred_prob)\n",
    "    print(\"Accuracy on Test Set:\", bg.score(X_test, y_test),\n",
    "          \"AUC:\", test_auc)\n",
    "    \n",
    "    y_pred_prob = bg.predict_proba(df[cols])[:,1]\n",
    "    total_auc = roc_auc_score(df[prod], y_pred_prob)\n",
    "    print(\"Accuracy on Original Dataset:\", bg.score(df[cols], df[prod]),\n",
    "          \"AUC:\", total_auc)\n",
    "    \n",
    "    # Collect AUC score\n",
    "    lst_test_auc_dt.append(test_auc_dt)\n",
    "    lst_test_auc.append(test_auc)\n",
    "    lst_total_auc.append(total_auc)\n",
    "    \n",
    "    # Predict whole dataset\n",
    "    y_pred = bg.predict(df[cols])\n",
    "    print(\"Prediction Count:\")\n",
    "    print(pd.Series(y_pred).value_counts(), \"\\n\")\n",
    "    \n",
    "    # Get probability if for non-buyers\n",
    "    df_prob[prod] = [p if a == 0 else a for p, a in zip(y_pred_prob, df[prod])]"
   ]
  },
  {
   "cell_type": "code",
   "execution_count": 11,
   "metadata": {},
   "outputs": [
    {
     "data": {
      "text/html": [
       "<div>\n",
       "<style scoped>\n",
       "    .dataframe tbody tr th:only-of-type {\n",
       "        vertical-align: middle;\n",
       "    }\n",
       "\n",
       "    .dataframe tbody tr th {\n",
       "        vertical-align: top;\n",
       "    }\n",
       "\n",
       "    .dataframe thead th {\n",
       "        text-align: right;\n",
       "    }\n",
       "</style>\n",
       "<table border=\"1\" class=\"dataframe\">\n",
       "  <thead>\n",
       "    <tr style=\"text-align: right;\">\n",
       "      <th></th>\n",
       "      <th>FSV CMSI</th>\n",
       "      <th>FSV Credit Card</th>\n",
       "      <th>FSV Deposit Program</th>\n",
       "      <th>FSV Home Equity</th>\n",
       "      <th>FSV ID Theft</th>\n",
       "      <th>FSV Mortgage</th>\n",
       "      <th>INS Client</th>\n",
       "      <th>TRV Globalware</th>\n",
       "      <th>New Mover</th>\n",
       "    </tr>\n",
       "  </thead>\n",
       "  <tbody>\n",
       "    <tr>\n",
       "      <th>0</th>\n",
       "      <td>0.190561</td>\n",
       "      <td>1.000000</td>\n",
       "      <td>0.000000</td>\n",
       "      <td>0.00</td>\n",
       "      <td>0.031233</td>\n",
       "      <td>0.02</td>\n",
       "      <td>0.390629</td>\n",
       "      <td>0.338546</td>\n",
       "      <td>1.000000</td>\n",
       "    </tr>\n",
       "    <tr>\n",
       "      <th>1</th>\n",
       "      <td>0.109526</td>\n",
       "      <td>0.433309</td>\n",
       "      <td>0.000000</td>\n",
       "      <td>0.00</td>\n",
       "      <td>0.079670</td>\n",
       "      <td>0.00</td>\n",
       "      <td>1.000000</td>\n",
       "      <td>0.288643</td>\n",
       "      <td>0.035584</td>\n",
       "    </tr>\n",
       "    <tr>\n",
       "      <th>2</th>\n",
       "      <td>0.100664</td>\n",
       "      <td>0.150313</td>\n",
       "      <td>0.044810</td>\n",
       "      <td>0.00</td>\n",
       "      <td>0.407399</td>\n",
       "      <td>0.00</td>\n",
       "      <td>0.333797</td>\n",
       "      <td>1.000000</td>\n",
       "      <td>0.097397</td>\n",
       "    </tr>\n",
       "    <tr>\n",
       "      <th>3</th>\n",
       "      <td>0.158302</td>\n",
       "      <td>0.236559</td>\n",
       "      <td>0.000000</td>\n",
       "      <td>0.00</td>\n",
       "      <td>0.398441</td>\n",
       "      <td>0.00</td>\n",
       "      <td>0.167813</td>\n",
       "      <td>1.000000</td>\n",
       "      <td>0.112228</td>\n",
       "    </tr>\n",
       "    <tr>\n",
       "      <th>4</th>\n",
       "      <td>0.635999</td>\n",
       "      <td>0.496385</td>\n",
       "      <td>0.007657</td>\n",
       "      <td>0.08</td>\n",
       "      <td>0.154740</td>\n",
       "      <td>0.00</td>\n",
       "      <td>1.000000</td>\n",
       "      <td>1.000000</td>\n",
       "      <td>0.116006</td>\n",
       "    </tr>\n",
       "  </tbody>\n",
       "</table>\n",
       "</div>"
      ],
      "text/plain": [
       "   FSV CMSI  FSV Credit Card  FSV Deposit Program  FSV Home Equity  \\\n",
       "0  0.190561         1.000000             0.000000             0.00   \n",
       "1  0.109526         0.433309             0.000000             0.00   \n",
       "2  0.100664         0.150313             0.044810             0.00   \n",
       "3  0.158302         0.236559             0.000000             0.00   \n",
       "4  0.635999         0.496385             0.007657             0.08   \n",
       "\n",
       "   FSV ID Theft  FSV Mortgage  INS Client  TRV Globalware  New Mover  \n",
       "0      0.031233          0.02    0.390629        0.338546   1.000000  \n",
       "1      0.079670          0.00    1.000000        0.288643   0.035584  \n",
       "2      0.407399          0.00    0.333797        1.000000   0.097397  \n",
       "3      0.398441          0.00    0.167813        1.000000   0.112228  \n",
       "4      0.154740          0.00    1.000000        1.000000   0.116006  "
      ]
     },
     "execution_count": 11,
     "metadata": {},
     "output_type": "execute_result"
    }
   ],
   "source": [
    "df_prob.head()"
   ]
  },
  {
   "cell_type": "code",
   "execution_count": 12,
   "metadata": {},
   "outputs": [
    {
     "data": {
      "text/html": [
       "<div>\n",
       "<style scoped>\n",
       "    .dataframe tbody tr th:only-of-type {\n",
       "        vertical-align: middle;\n",
       "    }\n",
       "\n",
       "    .dataframe tbody tr th {\n",
       "        vertical-align: top;\n",
       "    }\n",
       "\n",
       "    .dataframe thead th {\n",
       "        text-align: right;\n",
       "    }\n",
       "</style>\n",
       "<table border=\"1\" class=\"dataframe\">\n",
       "  <thead>\n",
       "    <tr style=\"text-align: right;\">\n",
       "      <th></th>\n",
       "      <th>FSV CMSI</th>\n",
       "      <th>FSV Credit Card</th>\n",
       "      <th>FSV Deposit Program</th>\n",
       "      <th>FSV Home Equity</th>\n",
       "      <th>FSV ID Theft</th>\n",
       "      <th>FSV Mortgage</th>\n",
       "      <th>INS Client</th>\n",
       "      <th>TRV Globalware</th>\n",
       "      <th>New Mover</th>\n",
       "    </tr>\n",
       "  </thead>\n",
       "  <tbody>\n",
       "    <tr>\n",
       "      <th>count</th>\n",
       "      <td>3511.000000</td>\n",
       "      <td>3511.000000</td>\n",
       "      <td>3511.000000</td>\n",
       "      <td>3511.000000</td>\n",
       "      <td>3511.000000</td>\n",
       "      <td>3511.000000</td>\n",
       "      <td>3511.000000</td>\n",
       "      <td>3511.000000</td>\n",
       "      <td>3511.000000</td>\n",
       "    </tr>\n",
       "    <tr>\n",
       "      <th>mean</th>\n",
       "      <td>0.251860</td>\n",
       "      <td>0.396857</td>\n",
       "      <td>0.116888</td>\n",
       "      <td>0.001529</td>\n",
       "      <td>0.272723</td>\n",
       "      <td>0.020857</td>\n",
       "      <td>0.513939</td>\n",
       "      <td>0.445824</td>\n",
       "      <td>0.223734</td>\n",
       "    </tr>\n",
       "    <tr>\n",
       "      <th>std</th>\n",
       "      <td>0.268689</td>\n",
       "      <td>0.288650</td>\n",
       "      <td>0.220487</td>\n",
       "      <td>0.030735</td>\n",
       "      <td>0.298996</td>\n",
       "      <td>0.080230</td>\n",
       "      <td>0.314256</td>\n",
       "      <td>0.293324</td>\n",
       "      <td>0.225270</td>\n",
       "    </tr>\n",
       "    <tr>\n",
       "      <th>min</th>\n",
       "      <td>0.000828</td>\n",
       "      <td>0.000000</td>\n",
       "      <td>0.000000</td>\n",
       "      <td>0.000000</td>\n",
       "      <td>0.000000</td>\n",
       "      <td>0.000000</td>\n",
       "      <td>0.082785</td>\n",
       "      <td>0.014259</td>\n",
       "      <td>0.005598</td>\n",
       "    </tr>\n",
       "    <tr>\n",
       "      <th>25%</th>\n",
       "      <td>0.077739</td>\n",
       "      <td>0.175061</td>\n",
       "      <td>0.000000</td>\n",
       "      <td>0.000000</td>\n",
       "      <td>0.000000</td>\n",
       "      <td>0.000000</td>\n",
       "      <td>0.282004</td>\n",
       "      <td>0.222063</td>\n",
       "      <td>0.089668</td>\n",
       "    </tr>\n",
       "    <tr>\n",
       "      <th>50%</th>\n",
       "      <td>0.130718</td>\n",
       "      <td>0.321867</td>\n",
       "      <td>0.000000</td>\n",
       "      <td>0.000000</td>\n",
       "      <td>0.163497</td>\n",
       "      <td>0.000000</td>\n",
       "      <td>0.360646</td>\n",
       "      <td>0.379270</td>\n",
       "      <td>0.144935</td>\n",
       "    </tr>\n",
       "    <tr>\n",
       "      <th>75%</th>\n",
       "      <td>0.337408</td>\n",
       "      <td>0.534861</td>\n",
       "      <td>0.083740</td>\n",
       "      <td>0.000000</td>\n",
       "      <td>0.491519</td>\n",
       "      <td>0.000000</td>\n",
       "      <td>1.000000</td>\n",
       "      <td>0.540660</td>\n",
       "      <td>0.262920</td>\n",
       "    </tr>\n",
       "    <tr>\n",
       "      <th>max</th>\n",
       "      <td>1.000000</td>\n",
       "      <td>1.000000</td>\n",
       "      <td>1.000000</td>\n",
       "      <td>1.000000</td>\n",
       "      <td>1.000000</td>\n",
       "      <td>1.000000</td>\n",
       "      <td>1.000000</td>\n",
       "      <td>1.000000</td>\n",
       "      <td>1.000000</td>\n",
       "    </tr>\n",
       "  </tbody>\n",
       "</table>\n",
       "</div>"
      ],
      "text/plain": [
       "          FSV CMSI  FSV Credit Card  FSV Deposit Program  FSV Home Equity  \\\n",
       "count  3511.000000      3511.000000          3511.000000      3511.000000   \n",
       "mean      0.251860         0.396857             0.116888         0.001529   \n",
       "std       0.268689         0.288650             0.220487         0.030735   \n",
       "min       0.000828         0.000000             0.000000         0.000000   \n",
       "25%       0.077739         0.175061             0.000000         0.000000   \n",
       "50%       0.130718         0.321867             0.000000         0.000000   \n",
       "75%       0.337408         0.534861             0.083740         0.000000   \n",
       "max       1.000000         1.000000             1.000000         1.000000   \n",
       "\n",
       "       FSV ID Theft  FSV Mortgage   INS Client  TRV Globalware    New Mover  \n",
       "count   3511.000000   3511.000000  3511.000000     3511.000000  3511.000000  \n",
       "mean       0.272723      0.020857     0.513939        0.445824     0.223734  \n",
       "std        0.298996      0.080230     0.314256        0.293324     0.225270  \n",
       "min        0.000000      0.000000     0.082785        0.014259     0.005598  \n",
       "25%        0.000000      0.000000     0.282004        0.222063     0.089668  \n",
       "50%        0.163497      0.000000     0.360646        0.379270     0.144935  \n",
       "75%        0.491519      0.000000     1.000000        0.540660     0.262920  \n",
       "max        1.000000      1.000000     1.000000        1.000000     1.000000  "
      ]
     },
     "execution_count": 12,
     "metadata": {},
     "output_type": "execute_result"
    }
   ],
   "source": [
    "df_prob.describe()"
   ]
  },
  {
   "cell_type": "code",
   "execution_count": 13,
   "metadata": {},
   "outputs": [
    {
     "data": {
      "text/html": [
       "<div>\n",
       "<style scoped>\n",
       "    .dataframe tbody tr th:only-of-type {\n",
       "        vertical-align: middle;\n",
       "    }\n",
       "\n",
       "    .dataframe tbody tr th {\n",
       "        vertical-align: top;\n",
       "    }\n",
       "\n",
       "    .dataframe thead th {\n",
       "        text-align: right;\n",
       "    }\n",
       "</style>\n",
       "<table border=\"1\" class=\"dataframe\">\n",
       "  <thead>\n",
       "    <tr style=\"text-align: right;\">\n",
       "      <th></th>\n",
       "      <th>Product</th>\n",
       "      <th>Test Set AUC (Decision Tree)</th>\n",
       "      <th>Test Set AUC (Bagging)</th>\n",
       "      <th>All Data AUC (Bagging)</th>\n",
       "    </tr>\n",
       "  </thead>\n",
       "  <tbody>\n",
       "    <tr>\n",
       "      <th>0</th>\n",
       "      <td>FSV CMSI</td>\n",
       "      <td>0.940589</td>\n",
       "      <td>0.988081</td>\n",
       "      <td>0.990453</td>\n",
       "    </tr>\n",
       "    <tr>\n",
       "      <th>1</th>\n",
       "      <td>FSV Credit Card</td>\n",
       "      <td>0.863193</td>\n",
       "      <td>0.960312</td>\n",
       "      <td>0.973901</td>\n",
       "    </tr>\n",
       "    <tr>\n",
       "      <th>2</th>\n",
       "      <td>FSV Deposit Program</td>\n",
       "      <td>0.952041</td>\n",
       "      <td>0.999826</td>\n",
       "      <td>0.999489</td>\n",
       "    </tr>\n",
       "    <tr>\n",
       "      <th>3</th>\n",
       "      <td>FSV Home Equity</td>\n",
       "      <td>1.000000</td>\n",
       "      <td>1.000000</td>\n",
       "      <td>1.000000</td>\n",
       "    </tr>\n",
       "    <tr>\n",
       "      <th>4</th>\n",
       "      <td>FSV ID Theft</td>\n",
       "      <td>0.879789</td>\n",
       "      <td>0.993578</td>\n",
       "      <td>0.994840</td>\n",
       "    </tr>\n",
       "    <tr>\n",
       "      <th>5</th>\n",
       "      <td>FSV Mortgage</td>\n",
       "      <td>0.997532</td>\n",
       "      <td>1.000000</td>\n",
       "      <td>1.000000</td>\n",
       "    </tr>\n",
       "    <tr>\n",
       "      <th>6</th>\n",
       "      <td>INS Client</td>\n",
       "      <td>0.808597</td>\n",
       "      <td>0.887416</td>\n",
       "      <td>0.953598</td>\n",
       "    </tr>\n",
       "    <tr>\n",
       "      <th>7</th>\n",
       "      <td>TRV Globalware</td>\n",
       "      <td>0.791115</td>\n",
       "      <td>0.944751</td>\n",
       "      <td>0.965058</td>\n",
       "    </tr>\n",
       "    <tr>\n",
       "      <th>8</th>\n",
       "      <td>New Mover</td>\n",
       "      <td>0.923843</td>\n",
       "      <td>0.994547</td>\n",
       "      <td>0.997655</td>\n",
       "    </tr>\n",
       "  </tbody>\n",
       "</table>\n",
       "</div>"
      ],
      "text/plain": [
       "               Product  Test Set AUC (Decision Tree)  Test Set AUC (Bagging)  \\\n",
       "0             FSV CMSI                      0.940589                0.988081   \n",
       "1      FSV Credit Card                      0.863193                0.960312   \n",
       "2  FSV Deposit Program                      0.952041                0.999826   \n",
       "3      FSV Home Equity                      1.000000                1.000000   \n",
       "4         FSV ID Theft                      0.879789                0.993578   \n",
       "5         FSV Mortgage                      0.997532                1.000000   \n",
       "6           INS Client                      0.808597                0.887416   \n",
       "7       TRV Globalware                      0.791115                0.944751   \n",
       "8            New Mover                      0.923843                0.994547   \n",
       "\n",
       "   All Data AUC (Bagging)  \n",
       "0                0.990453  \n",
       "1                0.973901  \n",
       "2                0.999489  \n",
       "3                1.000000  \n",
       "4                0.994840  \n",
       "5                1.000000  \n",
       "6                0.953598  \n",
       "7                0.965058  \n",
       "8                0.997655  "
      ]
     },
     "execution_count": 13,
     "metadata": {},
     "output_type": "execute_result"
    }
   ],
   "source": [
    "df_auc = pd.DataFrame({'Product': product_list,\n",
    "                       'Test Set AUC (Decision Tree)': lst_test_auc_dt,\n",
    "                       'Test Set AUC (Bagging)': lst_test_auc,\n",
    "                       'All Data AUC (Bagging)': lst_total_auc})\n",
    "df_auc"
   ]
  },
  {
   "cell_type": "code",
   "execution_count": 76,
   "metadata": {},
   "outputs": [
    {
     "data": {
      "text/plain": [
       "[]"
      ]
     },
     "execution_count": 76,
     "metadata": {},
     "output_type": "execute_result"
    },
    {
     "data": {
      "image/png": "[encoded data removed]",
      "text/plain": [
       "<Figure size 432x288 with 1 Axes>"
      ]
     },
     "metadata": {
      "needs_background": "light"
     },
     "output_type": "display_data"
    }
   ],
   "source": [
    "# Plot AUC\n",
    "df_auc.plot(x='Product', y=['Test Set AUC (Decision Tree)', \n",
    "                            'Test Set AUC (Bagging)', \n",
    "                            'All Data AUC (Bagging)'], kind='bar')\n",
    "plt.legend(loc='lower left')\n",
    "plt.plot()"
   ]
  },
  {
   "cell_type": "code",
   "execution_count": 15,
   "metadata": {},
   "outputs": [
    {
     "data": {
      "text/plain": [
       "Test Set AUC (Decision Tree)    0.906300\n",
       "Test Set AUC (Bagging)          0.974279\n",
       "All Data AUC (Bagging)          0.986110\n",
       "dtype: float64"
      ]
     },
     "execution_count": 15,
     "metadata": {},
     "output_type": "execute_result"
    }
   ],
   "source": [
    "df_auc.mean()"
   ]
  },
  {
   "cell_type": "markdown",
   "metadata": {},
   "source": [
    "**With high AUC on predicting all products in the original dataset, we can be confident that the probability of purchsing would be a good reference on current and potential buyers of each product.**"
   ]
  },
  {
   "cell_type": "markdown",
   "metadata": {},
   "source": [
    "## Predict Cost in Next 12 Months\n",
    "We can use the cost before year 2019 as year n-1, n-2, and so on to predict the cost in year 2019. Afterwards, we can use treat year 2019 as year n-1, year 2018 as year n-2, and so on to preduct the cost in year 2020. \n",
    "\n",
    "Based on the difinition, ERS ENT Count Year 1 and ERS Member Cost Year 1 happen in year 2019, so we can't use them to predict the cost in 2019. However, they can be used to predict the cost in 2020.\n",
    "\n",
    "One assumption here is that the household info would remain the same in year 2020 as we don't have the projected household info of year 2020."
   ]
  },
  {
   "cell_type": "code",
   "execution_count": 16,
   "metadata": {},
   "outputs": [
    {
     "name": "stdout",
     "output_type": "stream",
     "text": [
      "<class 'pandas.core.frame.DataFrame'>\n",
      "RangeIndex: 3511 entries, 0 to 3510\n",
      "Data columns (total 25 columns):\n",
      " #   Column                           Non-Null Count  Dtype   \n",
      "---  ------                           --------------  -----   \n",
      " 0   Member Key count                 3511 non-null   float64 \n",
      " 1   Length Of Residence mean         3511 non-null   float64 \n",
      " 2   Do Not Direct Mail Solicit mean  3511 non-null   float64 \n",
      " 3   Email Available mean             3511 non-null   float64 \n",
      " 4   ERS ENT Count Year n-1           3511 non-null   float64 \n",
      " 5   ERS ENT Count Year n-2           3511 non-null   float64 \n",
      " 6   ERS Member Cost Year n-1         3511 non-null   float64 \n",
      " 7   ERS Member Cost Year n-2         3511 non-null   float64 \n",
      " 8   Member Tenure Years mean         3511 non-null   float64 \n",
      " 9   Cost n-5                         3511 non-null   float64 \n",
      " 10  Cost n-4                         3511 non-null   float64 \n",
      " 11  Cost n-3                         3511 non-null   float64 \n",
      " 12  Cost n-2                         3511 non-null   float64 \n",
      " 13  Cost n-1                         3511 non-null   float64 \n",
      " 14  Cost 2019 sum                    3511 non-null   float64 \n",
      " 15  Mail Responder mean              3511 non-null   float64 \n",
      " 16  Number of Children mean          3511 non-null   float64 \n",
      " 17  Income mean                      3511 non-null   float64 \n",
      " 18  Credit Ranges mean               3511 non-null   float64 \n",
      " 19  AssociateMember sum              3511 non-null   float64 \n",
      " 20  PrimaryMember sum                3511 non-null   float64 \n",
      " 21  x0_1746.0                        3511 non-null   category\n",
      " 22  x0_1867.0                        3511 non-null   category\n",
      " 23  x0_1905.0                        3511 non-null   category\n",
      " 24  x0_2769.0                        3511 non-null   category\n",
      "dtypes: category(4), float64(21)\n",
      "memory usage: 590.2 KB\n"
     ]
    }
   ],
   "source": [
    "df_cost_prediction = df.drop(['Household Key', 'Total Cost sum', \n",
    "                              'ERS ENT Count Year 1 sum', 'ERS ENT Count Year 1 mean',\n",
    "                              'ERS ENT Count Year 2 mean', 'ERS ENT Count Year 3 mean', \n",
    "                              'ERS Member Cost Year 1 sum', 'ERS Member Cost Year 1 mean',\n",
    "                              'ERS Member Cost Year 2 mean', 'ERS Member Cost Year 3 mean'\n",
    "                             ] + product_list, axis = 1)\n",
    "    # Categorical variables\n",
    "cat_cols = [x for x in df_cost_prediction.columns if x.startswith('x')]\n",
    "for col in cat_cols:\n",
    "    df_cost_prediction[col] = df_cost_prediction[col].astype('category')\n",
    "df_cost_prediction = df_cost_prediction.rename(columns = \n",
    "                                               {'Cost 2018 sum': 'Cost n-1',\n",
    "                                                'Cost 2017 sum': 'Cost n-2',\n",
    "                                                'Cost 2016 sum': 'Cost n-3',\n",
    "                                                'Cost 2015 sum': 'Cost n-4',\n",
    "                                                'Cost 2014 sum': 'Cost n-5',\n",
    "                                                'ERS ENT Count Year 2 sum': 'ERS ENT Count Year n-1',\n",
    "                                                'ERS ENT Count Year 3 sum': 'ERS ENT Count Year n-2',\n",
    "                                                'ERS Member Cost Year 2 sum': 'ERS Member Cost Year n-1',\n",
    "                                                'ERS Member Cost Year 3 sum': 'ERS Member Cost Year n-2'})\n",
    "df_cost_prediction.iloc[:, :25].info()"
   ]
  },
  {
   "cell_type": "code",
   "execution_count": 17,
   "metadata": {},
   "outputs": [
    {
     "data": {
      "text/html": [
       "<div>\n",
       "<style scoped>\n",
       "    .dataframe tbody tr th:only-of-type {\n",
       "        vertical-align: middle;\n",
       "    }\n",
       "\n",
       "    .dataframe tbody tr th {\n",
       "        vertical-align: top;\n",
       "    }\n",
       "\n",
       "    .dataframe thead th {\n",
       "        text-align: right;\n",
       "    }\n",
       "</style>\n",
       "<table border=\"1\" class=\"dataframe\">\n",
       "  <thead>\n",
       "    <tr style=\"text-align: right;\">\n",
       "      <th></th>\n",
       "      <th>Member Key count</th>\n",
       "      <th>Length Of Residence mean</th>\n",
       "      <th>Do Not Direct Mail Solicit mean</th>\n",
       "      <th>Email Available mean</th>\n",
       "      <th>ERS ENT Count Year n-1</th>\n",
       "      <th>ERS ENT Count Year n-2</th>\n",
       "      <th>ERS Member Cost Year n-1</th>\n",
       "      <th>ERS Member Cost Year n-2</th>\n",
       "      <th>Member Tenure Years mean</th>\n",
       "      <th>Cost n-5</th>\n",
       "      <th>...</th>\n",
       "      <th>x5_Middle Class Melting Pot</th>\n",
       "      <th>x5_Not Set</th>\n",
       "      <th>x5_Pastoral Pride</th>\n",
       "      <th>x5_Power Elite</th>\n",
       "      <th>x5_Promising Families</th>\n",
       "      <th>x5_Significant Singles</th>\n",
       "      <th>x5_Singles and Starters</th>\n",
       "      <th>x5_Surburban Style</th>\n",
       "      <th>x5_Thriving Boomers</th>\n",
       "      <th>x5_Young City Solos</th>\n",
       "    </tr>\n",
       "  </thead>\n",
       "  <tbody>\n",
       "    <tr>\n",
       "      <th>0</th>\n",
       "      <td>0.0</td>\n",
       "      <td>14.000000</td>\n",
       "      <td>0.0</td>\n",
       "      <td>0.500000</td>\n",
       "      <td>1.0</td>\n",
       "      <td>4.0</td>\n",
       "      <td>58.85</td>\n",
       "      <td>347.16</td>\n",
       "      <td>32.500000</td>\n",
       "      <td>243.0</td>\n",
       "      <td>...</td>\n",
       "      <td>0.0</td>\n",
       "      <td>0.0</td>\n",
       "      <td>0.0</td>\n",
       "      <td>1.0</td>\n",
       "      <td>0.0</td>\n",
       "      <td>0.0</td>\n",
       "      <td>0.0</td>\n",
       "      <td>0.0</td>\n",
       "      <td>0.0</td>\n",
       "      <td>0.0</td>\n",
       "    </tr>\n",
       "    <tr>\n",
       "      <th>1</th>\n",
       "      <td>0.0</td>\n",
       "      <td>14.000000</td>\n",
       "      <td>0.0</td>\n",
       "      <td>0.750000</td>\n",
       "      <td>2.0</td>\n",
       "      <td>3.0</td>\n",
       "      <td>156.85</td>\n",
       "      <td>301.19</td>\n",
       "      <td>35.500000</td>\n",
       "      <td>0.0</td>\n",
       "      <td>...</td>\n",
       "      <td>0.0</td>\n",
       "      <td>0.0</td>\n",
       "      <td>0.0</td>\n",
       "      <td>0.0</td>\n",
       "      <td>0.0</td>\n",
       "      <td>0.0</td>\n",
       "      <td>0.0</td>\n",
       "      <td>0.0</td>\n",
       "      <td>0.0</td>\n",
       "      <td>0.0</td>\n",
       "    </tr>\n",
       "    <tr>\n",
       "      <th>2</th>\n",
       "      <td>0.0</td>\n",
       "      <td>15.000000</td>\n",
       "      <td>0.0</td>\n",
       "      <td>1.000000</td>\n",
       "      <td>0.0</td>\n",
       "      <td>0.0</td>\n",
       "      <td>0.00</td>\n",
       "      <td>0.00</td>\n",
       "      <td>13.000000</td>\n",
       "      <td>0.0</td>\n",
       "      <td>...</td>\n",
       "      <td>0.0</td>\n",
       "      <td>0.0</td>\n",
       "      <td>0.0</td>\n",
       "      <td>0.0</td>\n",
       "      <td>0.0</td>\n",
       "      <td>0.0</td>\n",
       "      <td>0.0</td>\n",
       "      <td>0.0</td>\n",
       "      <td>0.0</td>\n",
       "      <td>0.0</td>\n",
       "    </tr>\n",
       "    <tr>\n",
       "      <th>3</th>\n",
       "      <td>0.0</td>\n",
       "      <td>13.333333</td>\n",
       "      <td>0.0</td>\n",
       "      <td>1.000000</td>\n",
       "      <td>5.0</td>\n",
       "      <td>3.0</td>\n",
       "      <td>277.90</td>\n",
       "      <td>159.00</td>\n",
       "      <td>38.000000</td>\n",
       "      <td>0.0</td>\n",
       "      <td>...</td>\n",
       "      <td>0.0</td>\n",
       "      <td>0.0</td>\n",
       "      <td>0.0</td>\n",
       "      <td>0.0</td>\n",
       "      <td>0.0</td>\n",
       "      <td>0.0</td>\n",
       "      <td>0.0</td>\n",
       "      <td>0.0</td>\n",
       "      <td>1.0</td>\n",
       "      <td>0.0</td>\n",
       "    </tr>\n",
       "    <tr>\n",
       "      <th>4</th>\n",
       "      <td>0.0</td>\n",
       "      <td>15.000000</td>\n",
       "      <td>0.0</td>\n",
       "      <td>0.333333</td>\n",
       "      <td>0.0</td>\n",
       "      <td>0.0</td>\n",
       "      <td>0.00</td>\n",
       "      <td>0.00</td>\n",
       "      <td>27.666667</td>\n",
       "      <td>0.0</td>\n",
       "      <td>...</td>\n",
       "      <td>0.0</td>\n",
       "      <td>0.0</td>\n",
       "      <td>0.0</td>\n",
       "      <td>0.0</td>\n",
       "      <td>0.0</td>\n",
       "      <td>0.0</td>\n",
       "      <td>0.0</td>\n",
       "      <td>0.0</td>\n",
       "      <td>1.0</td>\n",
       "      <td>0.0</td>\n",
       "    </tr>\n",
       "  </tbody>\n",
       "</table>\n",
       "<p>5 rows × 218 columns</p>\n",
       "</div>"
      ],
      "text/plain": [
       "   Member Key count  Length Of Residence mean  \\\n",
       "0               0.0                 14.000000   \n",
       "1               0.0                 14.000000   \n",
       "2               0.0                 15.000000   \n",
       "3               0.0                 13.333333   \n",
       "4               0.0                 15.000000   \n",
       "\n",
       "   Do Not Direct Mail Solicit mean  Email Available mean  \\\n",
       "0                              0.0              0.500000   \n",
       "1                              0.0              0.750000   \n",
       "2                              0.0              1.000000   \n",
       "3                              0.0              1.000000   \n",
       "4                              0.0              0.333333   \n",
       "\n",
       "   ERS ENT Count Year n-1  ERS ENT Count Year n-2  ERS Member Cost Year n-1  \\\n",
       "0                     1.0                     4.0                     58.85   \n",
       "1                     2.0                     3.0                    156.85   \n",
       "2                     0.0                     0.0                      0.00   \n",
       "3                     5.0                     3.0                    277.90   \n",
       "4                     0.0                     0.0                      0.00   \n",
       "\n",
       "   ERS Member Cost Year n-2  Member Tenure Years mean  Cost n-5  ...  \\\n",
       "0                    347.16                 32.500000     243.0  ...   \n",
       "1                    301.19                 35.500000       0.0  ...   \n",
       "2                      0.00                 13.000000       0.0  ...   \n",
       "3                    159.00                 38.000000       0.0  ...   \n",
       "4                      0.00                 27.666667       0.0  ...   \n",
       "\n",
       "   x5_Middle Class Melting Pot  x5_Not Set  x5_Pastoral Pride  x5_Power Elite  \\\n",
       "0                          0.0         0.0                0.0             1.0   \n",
       "1                          0.0         0.0                0.0             0.0   \n",
       "2                          0.0         0.0                0.0             0.0   \n",
       "3                          0.0         0.0                0.0             0.0   \n",
       "4                          0.0         0.0                0.0             0.0   \n",
       "\n",
       "   x5_Promising Families  x5_Significant Singles  x5_Singles and Starters  \\\n",
       "0                    0.0                     0.0                      0.0   \n",
       "1                    0.0                     0.0                      0.0   \n",
       "2                    0.0                     0.0                      0.0   \n",
       "3                    0.0                     0.0                      0.0   \n",
       "4                    0.0                     0.0                      0.0   \n",
       "\n",
       "   x5_Surburban Style  x5_Thriving Boomers  x5_Young City Solos  \n",
       "0                 0.0                  0.0                  0.0  \n",
       "1                 0.0                  0.0                  0.0  \n",
       "2                 0.0                  0.0                  0.0  \n",
       "3                 0.0                  1.0                  0.0  \n",
       "4                 0.0                  1.0                  0.0  \n",
       "\n",
       "[5 rows x 218 columns]"
      ]
     },
     "execution_count": 17,
     "metadata": {},
     "output_type": "execute_result"
    }
   ],
   "source": [
    "df_cost_prediction.head()"
   ]
  },
  {
   "cell_type": "code",
   "execution_count": 71,
   "metadata": {},
   "outputs": [
    {
     "data": {
      "image/png": "[encoded data removed]",
      "text/plain": [
       "<Figure size 432x288 with 1 Axes>"
      ]
     },
     "metadata": {
      "needs_background": "light"
     },
     "output_type": "display_data"
    }
   ],
   "source": [
    "plt.hist(df_cost_prediction['Cost 2019 sum'], bins=10, color = 'blue')\n",
    "plt.show()"
   ]
  },
  {
   "cell_type": "code",
   "execution_count": 22,
   "metadata": {},
   "outputs": [
    {
     "data": {
      "text/plain": [
       "count    3511.000000\n",
       "mean       29.002273\n",
       "std        55.264674\n",
       "min         0.000000\n",
       "25%         0.000000\n",
       "50%         0.000000\n",
       "75%        58.850000\n",
       "max       584.170000\n",
       "Name: Cost 2019 sum, dtype: float64"
      ]
     },
     "execution_count": 22,
     "metadata": {},
     "output_type": "execute_result"
    }
   ],
   "source": [
    "df_cost_prediction['Cost 2019 sum'].describe()"
   ]
  },
  {
   "cell_type": "code",
   "execution_count": 65,
   "metadata": {},
   "outputs": [
    {
     "ename": "NameError",
     "evalue": "name 'ima' is not defined",
     "output_type": "error",
     "traceback": [
      "\u001b[1;31m---------------------------------------------------------------------------\u001b[0m",
      "\u001b[1;31mNameError\u001b[0m                                 Traceback (most recent call last)",
      "\u001b[1;32m<ipython-input-65-578d4848bef2>\u001b[0m in \u001b[0;36m<module>\u001b[1;34m\u001b[0m\n\u001b[1;32m----> 1\u001b[1;33m \u001b[0mplt\u001b[0m\u001b[1;33m.\u001b[0m\u001b[0mhist2d\u001b[0m\u001b[1;33m(\u001b[0m\u001b[0mima\u001b[0m\u001b[1;33m,\u001b[0m \u001b[0mgra\u001b[0m\u001b[1;33m,\u001b[0m \u001b[0mbins\u001b[0m\u001b[1;33m=\u001b[0m\u001b[0mdf_cost_prediction\u001b[0m\u001b[1;33m[\u001b[0m\u001b[1;34m'Cost 2019 sum'\u001b[0m\u001b[1;33m]\u001b[0m\u001b[1;33m,\u001b[0m \u001b[0mcmap\u001b[0m\u001b[1;33m=\u001b[0m\u001b[1;34m'Greys'\u001b[0m\u001b[1;33m)\u001b[0m\u001b[1;33m\u001b[0m\u001b[1;33m\u001b[0m\u001b[0m\n\u001b[0m",
      "\u001b[1;31mNameError\u001b[0m: name 'ima' is not defined"
     ]
    }
   ],
   "source": [
    "\n",
    "plt.hist2d (ima, gra, bins=df_cost_prediction['Cost 2019 sum'], cmap='Greys')"
   ]
  },
  {
   "cell_type": "code",
   "execution_count": 23,
   "metadata": {},
   "outputs": [
    {
     "data": {
      "text/plain": [
       "0.3383651381372828"
      ]
     },
     "execution_count": 23,
     "metadata": {},
     "output_type": "execute_result"
    }
   ],
   "source": [
    "# Percentage of households with costs greater than 0 in 2019\n",
    "len(df_cost_prediction['Cost 2019 sum'\n",
    "                      ][df_cost_prediction['Cost 2019 sum'\n",
    "                                          ] > 0]) / len(df_cost_prediction['Cost 2019 sum'])"
   ]
  },
  {
   "cell_type": "markdown",
   "metadata": {},
   "source": [
    "**The majority of households didn't generate any costs in 2019. Therefore, the question is modified to a classification question to identify the probability of a household generating cost in 2020**"
   ]
  },
  {
   "cell_type": "code",
   "execution_count": 24,
   "metadata": {},
   "outputs": [],
   "source": [
    "from sklearn.linear_model import LogisticRegression"
   ]
  },
  {
   "cell_type": "code",
   "execution_count": 25,
   "metadata": {},
   "outputs": [],
   "source": [
    "X = df_cost_prediction.drop(['Cost 2019 sum'], axis=1)\n",
    "# y = df_cost_prediction[['Cost 2019 sum']]\n",
    "y = [1 if x > 0 else 0 for x in df_cost_prediction['Cost 2019 sum']]\n",
    "X_train, X_test, y_train, y_test = train_test_split(X, y, test_size = 0.3, random_state = 28)"
   ]
  },
  {
   "cell_type": "code",
   "execution_count": 26,
   "metadata": {},
   "outputs": [
    {
     "name": "stdout",
     "output_type": "stream",
     "text": [
      "Best Parameters: {'C': 9, 'max_iter': 1000, 'tol': 10}\n",
      "Accuracy on Training Set: 0.7285281406785555\n",
      "Accuracy on Test Set: 0.7609108159392789\n",
      "AUC: 0.7649971185677809\n",
      "AUC on Original Dataset: 0.7772911349105925\n",
      "Wall time: 24.3 s\n"
     ]
    }
   ],
   "source": [
    "%%time\n",
    "param_grid = {'C': [15-6, 1e-5, 1e-4], \n",
    "              'tol': [10, 1, 0.1], \n",
    "              'max_iter': [1000, 1500]}\n",
    "gs_lr = GridSearchCV(LogisticRegression(), param_grid, cv=5)\n",
    "gs_lr.fit(X_train, y_train)\n",
    "print(\"Best Parameters:\", gs_lr.best_params_)\n",
    "print(\"Accuracy on Training Set:\", gs_lr.best_score_)\n",
    "\n",
    "y_pred_prob = gs_lr.predict_proba(X_test)[:,1]\n",
    "print(\"Accuracy on Test Set:\", gs_lr.score(X_test, y_test))\n",
    "print(\"AUC:\", roc_auc_score(y_test, y_pred_prob))\n",
    "\n",
    "y_pred_prob = gs_lr.predict_proba(X)[:,1]\n",
    "print(#\"Accuracy on Original Dataset:\", bg.score(X, y),\n",
    "      \"AUC on Original Dataset:\", roc_auc_score(y, y_pred_prob))"
   ]
  },
  {
   "cell_type": "code",
   "execution_count": 27,
   "metadata": {},
   "outputs": [
    {
     "data": {
      "text/plain": [
       "0    869\n",
       "1    185\n",
       "dtype: int64"
      ]
     },
     "execution_count": 27,
     "metadata": {},
     "output_type": "execute_result"
    }
   ],
   "source": [
    "y_pred = gs_lr.predict(X_test)\n",
    "pd.Series(y_pred).value_counts()"
   ]
  },
  {
   "cell_type": "code",
   "execution_count": 28,
   "metadata": {},
   "outputs": [
    {
     "name": "stdout",
     "output_type": "stream",
     "text": [
      "\n",
      "== Decision Tree ==\n",
      "Best Parameters: {'criterion': 'gini', 'max_depth': 3, 'min_samples_split': 2}\n",
      "Accuracy on Training Set: 0.7492805457586144\n",
      "Accuracy on Test Set: 0.7637571157495257 AUC: 0.7615898775496469\n",
      "Accuracy on Original Dataset: 0.7630304756479636 AUC: 0.7779692824354899\n",
      "\n",
      "== Bagging ==\n",
      "Accuracy on Training Set: 0.7643467643467643\n",
      "Accuracy on Test Set: 0.7703984819734345 AUC: 0.7763083174539076\n",
      "Accuracy on Original Dataset: 0.7661634861862717 AUC: 0.8018383360075139\n",
      "Prediction Count:\n",
      "0    2408\n",
      "1    1103\n",
      "dtype: int64 \n",
      "\n",
      "Wall time: 19 s\n"
     ]
    }
   ],
   "source": [
    "%%time\n",
    "# Train Decision Tree\n",
    "param_grid = {'criterion': ['gini', 'entropy'],\n",
    "              'max_depth': [2, 3, 5],\n",
    "              'min_samples_split': [2, 3, 4]}\n",
    "\n",
    "gs_dt = GridSearchCV(DecisionTreeClassifier(), param_grid, cv=5)\n",
    "gs_dt.fit(X_train, y_train)\n",
    "print(\"\\n== Decision Tree ==\")\n",
    "print(\"Best Parameters:\", gs_dt.best_params_)\n",
    "print(\"Accuracy on Training Set:\", gs_dt.best_score_)\n",
    "\n",
    "y_pred_prob = gs_dt.predict_proba(X_test)[:,1]\n",
    "print(\"Accuracy on Test Set:\", gs_dt.score(X_test, y_test), \n",
    "      \"AUC:\", roc_auc_score(y_test, y_pred_prob))\n",
    "    \n",
    "y_pred_prob = gs_dt.predict_proba(X)[:,1]\n",
    "print(\"Accuracy on Original Dataset:\", gs_dt.score(X, y), \n",
    "      \"AUC:\", roc_auc_score(y, y_pred_prob))\n",
    "\n",
    "# Train Bagging \n",
    "dt = DecisionTreeClassifier(criterion=gs_dt.best_estimator_.criterion,\n",
    "                            max_depth=gs_dt.best_estimator_.max_depth,\n",
    "                            min_samples_split=gs_dt.best_estimator_.min_samples_split)\n",
    "bg =  BaggingClassifier(dt, n_estimators = 100)\n",
    "bg.fit(X_train, y_train)\n",
    "print(\"\\n== Bagging ==\")\n",
    "print(\"Accuracy on Training Set:\", bg.score(X_train, y_train))\n",
    "\n",
    "y_pred_prob = bg.predict_proba(X_test)[:,1]\n",
    "print(\"Accuracy on Test Set:\", bg.score(X_test, y_test),\n",
    "      \"AUC:\", roc_auc_score(y_test, y_pred_prob))\n",
    "    \n",
    "y_pred_prob = bg.predict_proba(X)[:,1]\n",
    "print(\"Accuracy on Original Dataset:\", bg.score(X, y),\n",
    "      \"AUC:\", roc_auc_score(y, y_pred_prob))\n",
    "    \n",
    "y_pred = bg.predict(X)\n",
    "print(\"Prediction Count:\")\n",
    "print(pd.Series(y_pred).value_counts(), \"\\n\")"
   ]
  },
  {
   "cell_type": "code",
   "execution_count": 29,
   "metadata": {},
   "outputs": [
    {
     "name": "stdout",
     "output_type": "stream",
     "text": [
      "<class 'pandas.core.frame.DataFrame'>\n",
      "RangeIndex: 3511 entries, 0 to 3510\n",
      "Data columns (total 25 columns):\n",
      " #   Column                           Non-Null Count  Dtype  \n",
      "---  ------                           --------------  -----  \n",
      " 0   Member Key count                 3511 non-null   float64\n",
      " 1   Length Of Residence mean         3511 non-null   float64\n",
      " 2   Do Not Direct Mail Solicit mean  3511 non-null   float64\n",
      " 3   Email Available mean             3511 non-null   float64\n",
      " 4   ERS ENT Count Year n-1           3511 non-null   float64\n",
      " 5   ERS ENT Count Year n-2           3511 non-null   float64\n",
      " 6   ERS Member Cost Year n-1         3511 non-null   float64\n",
      " 7   ERS Member Cost Year n-2         3511 non-null   float64\n",
      " 8   Member Tenure Years mean         3511 non-null   float64\n",
      " 9   Cost n-5                         3511 non-null   float64\n",
      " 10  Cost n-4                         3511 non-null   float64\n",
      " 11  Cost n-3                         3511 non-null   float64\n",
      " 12  Cost n-2                         3511 non-null   float64\n",
      " 13  Cost n-1                         3511 non-null   float64\n",
      " 14  Mail Responder mean              3511 non-null   float64\n",
      " 15  Number of Children mean          3511 non-null   float64\n",
      " 16  Income mean                      3511 non-null   float64\n",
      " 17  Credit Ranges mean               3511 non-null   float64\n",
      " 18  AssociateMember sum              3511 non-null   float64\n",
      " 19  PrimaryMember sum                3511 non-null   float64\n",
      " 20  x0_1746.0                        3511 non-null   float64\n",
      " 21  x0_1867.0                        3511 non-null   float64\n",
      " 22  x0_1905.0                        3511 non-null   float64\n",
      " 23  x0_2769.0                        3511 non-null   float64\n",
      " 24  x0_2802.0                        3511 non-null   float64\n",
      "dtypes: float64(25)\n",
      "memory usage: 685.9 KB\n"
     ]
    }
   ],
   "source": [
    "df_2020_prediction = df.drop(['Household Key','Cost 2014 sum', 'Total Cost sum', \n",
    "                              'ERS ENT Count Year 3 sum', 'ERS ENT Count Year 1 mean',\n",
    "                              'ERS ENT Count Year 2 mean', 'ERS ENT Count Year 3 mean', \n",
    "                              'ERS Member Cost Year 3 sum', 'ERS Member Cost Year 1 mean',\n",
    "                              'ERS Member Cost Year 2 mean', 'ERS Member Cost Year 3 mean'\n",
    "                             ] + product_list, axis = 1)\n",
    "    # Categorical variables\n",
    "cat_cols = [x for x in df_2020_prediction.columns if x.startswith('x')]\n",
    "for col in cat_cols:\n",
    "    df_cost_prediction[col] = df_cost_prediction[col].astype('category')\n",
    "df_2020_prediction = df_2020_prediction.rename(columns=\n",
    "                                               {'Cost 2019 sum': 'Cost n-1',\n",
    "                                                'Cost 2018 sum': 'Cost n-2',\n",
    "                                                'Cost 2017 sum': 'Cost n-3',\n",
    "                                                'Cost 2016 sum': 'Cost n-4',\n",
    "                                                'Cost 2015 sum': 'Cost n-5',\n",
    "                                                'ERS ENT Count Year 1 sum': 'ERS ENT Count Year n-1',\n",
    "                                                'ERS ENT Count Year 2 sum': 'ERS ENT Count Year n-2',\n",
    "                                                'ERS Member Cost Year 1 sum': 'ERS Member Cost Year n-1',\n",
    "                                                'ERS Member Cost Year 2 sum': 'ERS Member Cost Year n-2'})\n",
    "df_2020_prediction.iloc[:, :25].info()"
   ]
  },
  {
   "cell_type": "code",
   "execution_count": 30,
   "metadata": {},
   "outputs": [
    {
     "name": "stdout",
     "output_type": "stream",
     "text": [
      "Prediction Count:\n",
      "0    3271\n",
      "1     240\n",
      "dtype: int64\n"
     ]
    }
   ],
   "source": [
    "df_prob['Cost'] = bg.predict_proba(df_2020_prediction)[:,1]\n",
    "y_pred = bg.predict(df_2020_prediction)\n",
    "print(\"Prediction Count:\")\n",
    "print(pd.Series(y_pred).value_counts())"
   ]
  },
  {
   "cell_type": "code",
   "execution_count": 31,
   "metadata": {},
   "outputs": [
    {
     "data": {
      "text/html": [
       "<div>\n",
       "<style scoped>\n",
       "    .dataframe tbody tr th:only-of-type {\n",
       "        vertical-align: middle;\n",
       "    }\n",
       "\n",
       "    .dataframe tbody tr th {\n",
       "        vertical-align: top;\n",
       "    }\n",
       "\n",
       "    .dataframe thead th {\n",
       "        text-align: right;\n",
       "    }\n",
       "</style>\n",
       "<table border=\"1\" class=\"dataframe\">\n",
       "  <thead>\n",
       "    <tr style=\"text-align: right;\">\n",
       "      <th></th>\n",
       "      <th>FSV CMSI</th>\n",
       "      <th>FSV Credit Card</th>\n",
       "      <th>FSV Deposit Program</th>\n",
       "      <th>FSV Home Equity</th>\n",
       "      <th>FSV ID Theft</th>\n",
       "      <th>FSV Mortgage</th>\n",
       "      <th>INS Client</th>\n",
       "      <th>TRV Globalware</th>\n",
       "      <th>New Mover</th>\n",
       "      <th>Cost</th>\n",
       "    </tr>\n",
       "  </thead>\n",
       "  <tbody>\n",
       "    <tr>\n",
       "      <th>0</th>\n",
       "      <td>0.190561</td>\n",
       "      <td>1.000000</td>\n",
       "      <td>0.000000</td>\n",
       "      <td>0.00</td>\n",
       "      <td>0.031233</td>\n",
       "      <td>0.02</td>\n",
       "      <td>0.390629</td>\n",
       "      <td>0.338546</td>\n",
       "      <td>1.000000</td>\n",
       "      <td>0.489472</td>\n",
       "    </tr>\n",
       "    <tr>\n",
       "      <th>1</th>\n",
       "      <td>0.109526</td>\n",
       "      <td>0.433309</td>\n",
       "      <td>0.000000</td>\n",
       "      <td>0.00</td>\n",
       "      <td>0.079670</td>\n",
       "      <td>0.00</td>\n",
       "      <td>1.000000</td>\n",
       "      <td>0.288643</td>\n",
       "      <td>0.035584</td>\n",
       "      <td>0.414233</td>\n",
       "    </tr>\n",
       "    <tr>\n",
       "      <th>2</th>\n",
       "      <td>0.100664</td>\n",
       "      <td>0.150313</td>\n",
       "      <td>0.044810</td>\n",
       "      <td>0.00</td>\n",
       "      <td>0.407399</td>\n",
       "      <td>0.00</td>\n",
       "      <td>0.333797</td>\n",
       "      <td>1.000000</td>\n",
       "      <td>0.097397</td>\n",
       "      <td>0.134657</td>\n",
       "    </tr>\n",
       "    <tr>\n",
       "      <th>3</th>\n",
       "      <td>0.158302</td>\n",
       "      <td>0.236559</td>\n",
       "      <td>0.000000</td>\n",
       "      <td>0.00</td>\n",
       "      <td>0.398441</td>\n",
       "      <td>0.00</td>\n",
       "      <td>0.167813</td>\n",
       "      <td>1.000000</td>\n",
       "      <td>0.112228</td>\n",
       "      <td>0.444123</td>\n",
       "    </tr>\n",
       "    <tr>\n",
       "      <th>4</th>\n",
       "      <td>0.635999</td>\n",
       "      <td>0.496385</td>\n",
       "      <td>0.007657</td>\n",
       "      <td>0.08</td>\n",
       "      <td>0.154740</td>\n",
       "      <td>0.00</td>\n",
       "      <td>1.000000</td>\n",
       "      <td>1.000000</td>\n",
       "      <td>0.116006</td>\n",
       "      <td>0.392975</td>\n",
       "    </tr>\n",
       "  </tbody>\n",
       "</table>\n",
       "</div>"
      ],
      "text/plain": [
       "   FSV CMSI  FSV Credit Card  FSV Deposit Program  FSV Home Equity  \\\n",
       "0  0.190561         1.000000             0.000000             0.00   \n",
       "1  0.109526         0.433309             0.000000             0.00   \n",
       "2  0.100664         0.150313             0.044810             0.00   \n",
       "3  0.158302         0.236559             0.000000             0.00   \n",
       "4  0.635999         0.496385             0.007657             0.08   \n",
       "\n",
       "   FSV ID Theft  FSV Mortgage  INS Client  TRV Globalware  New Mover      Cost  \n",
       "0      0.031233          0.02    0.390629        0.338546   1.000000  0.489472  \n",
       "1      0.079670          0.00    1.000000        0.288643   0.035584  0.414233  \n",
       "2      0.407399          0.00    0.333797        1.000000   0.097397  0.134657  \n",
       "3      0.398441          0.00    0.167813        1.000000   0.112228  0.444123  \n",
       "4      0.154740          0.00    1.000000        1.000000   0.116006  0.392975  "
      ]
     },
     "execution_count": 31,
     "metadata": {},
     "output_type": "execute_result"
    }
   ],
   "source": [
    "df_prob.head()"
   ]
  },
  {
   "cell_type": "markdown",
   "metadata": {},
   "source": [
    "## Clustering"
   ]
  },
  {
   "cell_type": "code",
   "execution_count": 32,
   "metadata": {},
   "outputs": [],
   "source": [
    "from sklearn.cluster import KMeans"
   ]
  },
  {
   "cell_type": "code",
   "execution_count": 33,
   "metadata": {},
   "outputs": [
    {
     "data": {
      "image/png": "[encoded data removed]",
      "text/plain": [
       "<Figure size 432x288 with 1 Axes>"
      ]
     },
     "metadata": {
      "needs_background": "light"
     },
     "output_type": "display_data"
    }
   ],
   "source": [
    "Sum_of_squared_distances = []\n",
    "K = range(1,15)\n",
    "for k in K:\n",
    "    km = KMeans(n_clusters=k)\n",
    "    km = km.fit(df_prob.iloc[:,:9])\n",
    "    Sum_of_squared_distances.append(km.inertia_)\n",
    "\n",
    "plt.plot(K, Sum_of_squared_distances, 'bx-')\n",
    "plt.xlabel('k')\n",
    "plt.ylabel('Sum_of_squared_distances')\n",
    "plt.title('Elbow Method For Optimal k')\n",
    "plt.show()"
   ]
  },
  {
   "cell_type": "code",
   "execution_count": 34,
   "metadata": {},
   "outputs": [
    {
     "data": {
      "text/html": [
       "<div>\n",
       "<style scoped>\n",
       "    .dataframe tbody tr th:only-of-type {\n",
       "        vertical-align: middle;\n",
       "    }\n",
       "\n",
       "    .dataframe tbody tr th {\n",
       "        vertical-align: top;\n",
       "    }\n",
       "\n",
       "    .dataframe thead th {\n",
       "        text-align: right;\n",
       "    }\n",
       "</style>\n",
       "<table border=\"1\" class=\"dataframe\">\n",
       "  <thead>\n",
       "    <tr style=\"text-align: right;\">\n",
       "      <th></th>\n",
       "      <th>INS Client</th>\n",
       "      <th>TRV Globalware</th>\n",
       "      <th>FSV Credit Card</th>\n",
       "      <th>FSV CMSI</th>\n",
       "      <th>FSV ID Theft</th>\n",
       "      <th>New Mover</th>\n",
       "      <th>FSV Deposit Program</th>\n",
       "      <th>FSV Mortgage</th>\n",
       "      <th>FSV Home Equity</th>\n",
       "      <th>Cost</th>\n",
       "      <th>Cluster</th>\n",
       "    </tr>\n",
       "  </thead>\n",
       "  <tbody>\n",
       "    <tr>\n",
       "      <th>0</th>\n",
       "      <td>0.390629</td>\n",
       "      <td>0.338546</td>\n",
       "      <td>1.000000</td>\n",
       "      <td>0.190561</td>\n",
       "      <td>0.031233</td>\n",
       "      <td>1.000000</td>\n",
       "      <td>0.000000</td>\n",
       "      <td>0.02</td>\n",
       "      <td>0.00</td>\n",
       "      <td>0.489472</td>\n",
       "      <td>7</td>\n",
       "    </tr>\n",
       "    <tr>\n",
       "      <th>1</th>\n",
       "      <td>1.000000</td>\n",
       "      <td>0.288643</td>\n",
       "      <td>0.433309</td>\n",
       "      <td>0.109526</td>\n",
       "      <td>0.079670</td>\n",
       "      <td>0.035584</td>\n",
       "      <td>0.000000</td>\n",
       "      <td>0.00</td>\n",
       "      <td>0.00</td>\n",
       "      <td>0.414233</td>\n",
       "      <td>0</td>\n",
       "    </tr>\n",
       "    <tr>\n",
       "      <th>2</th>\n",
       "      <td>0.333797</td>\n",
       "      <td>1.000000</td>\n",
       "      <td>0.150313</td>\n",
       "      <td>0.100664</td>\n",
       "      <td>0.407399</td>\n",
       "      <td>0.097397</td>\n",
       "      <td>0.044810</td>\n",
       "      <td>0.00</td>\n",
       "      <td>0.00</td>\n",
       "      <td>0.134657</td>\n",
       "      <td>6</td>\n",
       "    </tr>\n",
       "    <tr>\n",
       "      <th>3</th>\n",
       "      <td>0.167813</td>\n",
       "      <td>1.000000</td>\n",
       "      <td>0.236559</td>\n",
       "      <td>0.158302</td>\n",
       "      <td>0.398441</td>\n",
       "      <td>0.112228</td>\n",
       "      <td>0.000000</td>\n",
       "      <td>0.00</td>\n",
       "      <td>0.00</td>\n",
       "      <td>0.444123</td>\n",
       "      <td>6</td>\n",
       "    </tr>\n",
       "    <tr>\n",
       "      <th>4</th>\n",
       "      <td>1.000000</td>\n",
       "      <td>1.000000</td>\n",
       "      <td>0.496385</td>\n",
       "      <td>0.635999</td>\n",
       "      <td>0.154740</td>\n",
       "      <td>0.116006</td>\n",
       "      <td>0.007657</td>\n",
       "      <td>0.00</td>\n",
       "      <td>0.08</td>\n",
       "      <td>0.392975</td>\n",
       "      <td>6</td>\n",
       "    </tr>\n",
       "  </tbody>\n",
       "</table>\n",
       "</div>"
      ],
      "text/plain": [
       "   INS Client  TRV Globalware  FSV Credit Card  FSV CMSI  FSV ID Theft  \\\n",
       "0    0.390629        0.338546         1.000000  0.190561      0.031233   \n",
       "1    1.000000        0.288643         0.433309  0.109526      0.079670   \n",
       "2    0.333797        1.000000         0.150313  0.100664      0.407399   \n",
       "3    0.167813        1.000000         0.236559  0.158302      0.398441   \n",
       "4    1.000000        1.000000         0.496385  0.635999      0.154740   \n",
       "\n",
       "   New Mover  FSV Deposit Program  FSV Mortgage  FSV Home Equity      Cost  \\\n",
       "0   1.000000             0.000000          0.02             0.00  0.489472   \n",
       "1   0.035584             0.000000          0.00             0.00  0.414233   \n",
       "2   0.097397             0.044810          0.00             0.00  0.134657   \n",
       "3   0.112228             0.000000          0.00             0.00  0.444123   \n",
       "4   0.116006             0.007657          0.00             0.08  0.392975   \n",
       "\n",
       "   Cluster  \n",
       "0        7  \n",
       "1        0  \n",
       "2        6  \n",
       "3        6  \n",
       "4        6  "
      ]
     },
     "execution_count": 34,
     "metadata": {},
     "output_type": "execute_result"
    }
   ],
   "source": [
    "df_prob = df_prob[['INS Client', 'TRV Globalware', 'FSV Credit Card', \n",
    "                   'FSV CMSI', 'FSV ID Theft', 'New Mover', \n",
    "                   'FSV Deposit Program', 'FSV Mortgage', 'FSV Home Equity',\n",
    "                   'Cost']]\n",
    "\n",
    "kmeans = KMeans(n_clusters= 8, random_state=32).fit(df_prob.iloc[:,:9])\n",
    "df_prob['Cluster'] = kmeans.labels_\n",
    "df_prob.head()"
   ]
  },
  {
   "cell_type": "code",
   "execution_count": 35,
   "metadata": {},
   "outputs": [
    {
     "data": {
      "text/plain": [
       "0     482\n",
       "1     283\n",
       "2     441\n",
       "3     363\n",
       "4    1050\n",
       "5     367\n",
       "6     335\n",
       "7     190\n",
       "Name: Cluster, dtype: int64"
      ]
     },
     "execution_count": 35,
     "metadata": {},
     "output_type": "execute_result"
    }
   ],
   "source": [
    "df_prob['Cluster'].value_counts().sort_index()"
   ]
  },
  {
   "cell_type": "code",
   "execution_count": 78,
   "metadata": {},
   "outputs": [
    {
     "name": "stdout",
     "output_type": "stream",
     "text": [
      "Wall time: 290 ms\n"
     ]
    },
    {
     "data": {
      "image/png": "[encoded data removed]",
      "text/plain": [
       "<Figure size 864x864 with 9 Axes>"
      ]
     },
     "metadata": {
      "needs_background": "light"
     },
     "output_type": "display_data"
    }
   ],
   "source": [
    "%%time\n",
    "fig, axs = plt.subplots(3, 3, figsize=(12, 12), sharey=True)\n",
    "\n",
    "col = 0\n",
    "for i in range(3):\n",
    "    for j in range(3):\n",
    "        axs[i, j].scatter(df_prob['Cluster'], df_prob.iloc[:, col], \n",
    "                          c=df_prob['Cluster'], cmap='viridis', s=10)\n",
    "        axs[i, j].set_ylabel(df_prob.iloc[:, col].name)\n",
    "        axs[i, j].set_xlabel('Clusters')\n",
    "        col += 1"
   ]
  },
  {
   "cell_type": "code",
   "execution_count": null,
   "metadata": {},
   "outputs": [],
   "source": [
    "# import seaborn as sns"
   ]
  },
  {
   "cell_type": "code",
   "execution_count": null,
   "metadata": {},
   "outputs": [],
   "source": [
    "# sns.pairplot(data = df_prob,\n",
    "#              x_vars = ['Cluster'],\n",
    "#              y_vars=['INS Client', 'TRV Globalware', 'FSV Credit Card', \n",
    "#                    'FSV CMSI', 'FSV ID Theft', 'New Mover', \n",
    "#                    'FSV Deposit Program', 'FSV Mortgage', 'FSV Home Equity',\n",
    "#                    'Cost'], \n",
    "#              hue='Cluster')\n",
    "# plt.show()"
   ]
  },
  {
   "cell_type": "markdown",
   "metadata": {},
   "source": [
    "### Clustering Summary\n",
    "\n",
    "#### Number of Clusters\n",
    "- From the chart, it seems 3 or 6 clusters are the optimal choices, but 6 or less clusters don't actually reveal much product-level insights for business action.\n",
    "\n",
    "\n",
    "- When the households are clustered into **8 or 9 groups**, we can identify target audiences that shows high interest on a particular product for 7 products. \n",
    "\n",
    "\n",
    "- Clustering observation:\n",
    "    - 6 clusters -> target segment identified for 4 products\n",
    "    - 7 clusters -> target segment identified for 5 products\n",
    "    - 8 clusters -> target segment identified for 7 products\n",
    "    - 9 clusters -> target segment identified for 7 products\n",
    "\n",
    "#### Segmentation by Product\n",
    "- The two products that do not have a particular cluster standing out are FSV Mortgage and FSV Home Equity, which also have the lowest market peneratration. In general, the probability to purchase these two products are very low for all households. For these two products, we could simply focus on individual households with relatively higher probability of purchasing instead of a particular group.\n",
    "\n",
    "\n",
    "- Segment to product mapping:\n",
    "    - INS Client: Segment 0\n",
    "    - TRV Globalware: Segment 1\n",
    "    - FSV Credit Card: Segment 2\n",
    "    - FSV CMSI: Segment 7\n",
    "    - FSV ID Theft: Segment 4\n",
    "    - New Mover': Segment 5\n",
    "    - FSV Deposit Program: 6"
   ]
  },
  {
   "cell_type": "code",
   "execution_count": 37,
   "metadata": {
    "scrolled": true
   },
   "outputs": [
    {
     "data": {
      "text/html": [
       "<div>\n",
       "<style scoped>\n",
       "    .dataframe tbody tr th:only-of-type {\n",
       "        vertical-align: middle;\n",
       "    }\n",
       "\n",
       "    .dataframe tbody tr th {\n",
       "        vertical-align: top;\n",
       "    }\n",
       "\n",
       "    .dataframe thead th {\n",
       "        text-align: right;\n",
       "    }\n",
       "</style>\n",
       "<table border=\"1\" class=\"dataframe\">\n",
       "  <thead>\n",
       "    <tr style=\"text-align: right;\">\n",
       "      <th></th>\n",
       "      <th>Product</th>\n",
       "      <th>Targeted Household Size</th>\n",
       "      <th>Avg Prob. of Purchase (Target HHs)</th>\n",
       "      <th>Avg Prob. of Purchase (Non Target HHs)</th>\n",
       "    </tr>\n",
       "  </thead>\n",
       "  <tbody>\n",
       "    <tr>\n",
       "      <th>0</th>\n",
       "      <td>INS Client</td>\n",
       "      <td>3</td>\n",
       "      <td>0.681484</td>\n",
       "      <td>0.436908</td>\n",
       "    </tr>\n",
       "    <tr>\n",
       "      <th>1</th>\n",
       "      <td>TRV Globalware</td>\n",
       "      <td>221</td>\n",
       "      <td>0.375318</td>\n",
       "      <td>0.440008</td>\n",
       "    </tr>\n",
       "    <tr>\n",
       "      <th>2</th>\n",
       "      <td>FSV Credit Card</td>\n",
       "      <td>419</td>\n",
       "      <td>0.393239</td>\n",
       "      <td>0.393029</td>\n",
       "    </tr>\n",
       "    <tr>\n",
       "      <th>3</th>\n",
       "      <td>FSV CMSI</td>\n",
       "      <td>166</td>\n",
       "      <td>0.197688</td>\n",
       "      <td>0.249161</td>\n",
       "    </tr>\n",
       "    <tr>\n",
       "      <th>4</th>\n",
       "      <td>FSV ID Theft</td>\n",
       "      <td>1050</td>\n",
       "      <td>0.067047</td>\n",
       "      <td>0.360476</td>\n",
       "    </tr>\n",
       "    <tr>\n",
       "      <th>5</th>\n",
       "      <td>New Mover</td>\n",
       "      <td>367</td>\n",
       "      <td>0.158279</td>\n",
       "      <td>0.231375</td>\n",
       "    </tr>\n",
       "    <tr>\n",
       "      <th>6</th>\n",
       "      <td>FSV Deposit Program</td>\n",
       "      <td>334</td>\n",
       "      <td>0.067113</td>\n",
       "      <td>0.121844</td>\n",
       "    </tr>\n",
       "  </tbody>\n",
       "</table>\n",
       "</div>"
      ],
      "text/plain": [
       "               Product  Targeted Household Size  \\\n",
       "0           INS Client                        3   \n",
       "1       TRV Globalware                      221   \n",
       "2      FSV Credit Card                      419   \n",
       "3             FSV CMSI                      166   \n",
       "4         FSV ID Theft                     1050   \n",
       "5            New Mover                      367   \n",
       "6  FSV Deposit Program                      334   \n",
       "\n",
       "   Avg Prob. of Purchase (Target HHs)  Avg Prob. of Purchase (Non Target HHs)  \n",
       "0                            0.681484                                0.436908  \n",
       "1                            0.375318                                0.440008  \n",
       "2                            0.393239                                0.393029  \n",
       "3                            0.197688                                0.249161  \n",
       "4                            0.067047                                0.360476  \n",
       "5                            0.158279                                0.231375  \n",
       "6                            0.067113                                0.121844  "
      ]
     },
     "execution_count": 37,
     "metadata": {},
     "output_type": "execute_result"
    }
   ],
   "source": [
    "segments= {'INS Client': 0,\n",
    "           'TRV Globalware': 1,\n",
    "           'FSV Credit Card': 2,\n",
    "           'FSV CMSI': 7,\n",
    "           'FSV ID Theft': 4,\n",
    "           'New Mover': 5,\n",
    "           'FSV Deposit Program': 6}\n",
    "lst_product = []\n",
    "lst_HH_size = []\n",
    "lst_prob_target = []\n",
    "lst_prob_non_target = []\n",
    "for k in segments:\n",
    "    df_target = df_prob[(df_prob['Cluster'] == segments[k]) & (df_prob[k] != 1)]\n",
    "    df_non_target = df_prob[(df_prob['Cluster'] != segments[k])]\n",
    "    \n",
    "    lst_product.append(k)\n",
    "    lst_HH_size.append(len(df_target))\n",
    "    lst_prob_target.append(df_target[k].mean())\n",
    "    lst_prob_non_target.append(df_non_target[k].mean())\n",
    "    \n",
    "df_segment_summary = pd.DataFrame({'Product': lst_product,\n",
    "                                   'Targeted Household Size': lst_HH_size,\n",
    "                                   'Avg Prob. of Purchase (Target HHs)': lst_prob_target,\n",
    "                                   'Avg Prob. of Purchase (Non Target HHs)': lst_prob_non_target})\n",
    "df_segment_summary"
   ]
  },
  {
   "cell_type": "markdown",
   "metadata": {},
   "source": [
    "\n",
    "                   \n",
    "#### Cost\n",
    "- In addition, predicted cost does not have any noticeable difference across clusters, partly because cost is hard to predict. The cost could possibly be generated randomly as a customer only needs it in emergency."
   ]
  },
  {
   "cell_type": "code",
   "execution_count": 38,
   "metadata": {},
   "outputs": [
    {
     "data": {
      "image/png": "[encoded data removed]",
      "text/plain": [
       "<Figure size 432x288 with 1 Axes>"
      ]
     },
     "metadata": {
      "needs_background": "light"
     },
     "output_type": "display_data"
    }
   ],
   "source": [
    "plt.scatter(df_prob['Cluster'], df_prob['Cost'], \n",
    "            c=df_prob['Cluster'], cmap='viridis', s=10)\n",
    "plt.ylabel('Cost')\n",
    "plt.xlabel('Clusters')\n",
    "plt.show()"
   ]
  },
  {
   "cell_type": "markdown",
   "metadata": {},
   "source": [
    "## Appendix\n",
    "Applying other models - using 'INS Client' as an example."
   ]
  },
  {
   "cell_type": "code",
   "execution_count": 39,
   "metadata": {},
   "outputs": [],
   "source": [
    "from sklearn.preprocessing import MinMaxScaler\n",
    "\n",
    "from sklearn.neighbors import KNeighborsClassifier\n",
    "from sklearn.svm import SVC\n",
    "from sklearn.svm import LinearSVC\n",
    "from sklearn.ensemble import RandomForestClassifier, AdaBoostClassifier"
   ]
  },
  {
   "cell_type": "code",
   "execution_count": 40,
   "metadata": {},
   "outputs": [],
   "source": [
    "# Up Sampling\n",
    "# Separate majority and minority classes\n",
    "df_majority = df[df['INS Client']==0]\n",
    "df_minority = df[df['INS Client']==1]\n",
    "\n",
    "# Upsample minority class\n",
    "df_minority_upsampled = resample(df_minority, replace=True, \n",
    "                                 n_samples=len(df_majority), random_state=72)\n",
    "df_upsampled = pd.concat([df_majority, df_minority_upsampled])\n",
    "    \n",
    "cols = [x for x in df_upsampled.columns if (x not in product_list\n",
    "                                           ) & (x not in ['Household Key', 'Total Cost sum'])]\n",
    "\n",
    "X = df_upsampled[cols]\n",
    "# Scale \n",
    "scaler = MinMaxScaler()\n",
    "scaler.fit(X)\n",
    "df_scaled = scaler.transform(X)\n",
    "\n",
    "y = df_upsampled['INS Client']\n",
    "\n",
    "X_train, X_test, y_train, y_test = train_test_split(X, y, test_size=0.2, stratify=y, random_state=75)"
   ]
  },
  {
   "cell_type": "markdown",
   "metadata": {},
   "source": [
    "#### kNN"
   ]
  },
  {
   "cell_type": "code",
   "execution_count": 41,
   "metadata": {},
   "outputs": [
    {
     "name": "stdout",
     "output_type": "stream",
     "text": [
      "Best Number of Neighbors: {'n_neighbors': 9}\n",
      "Accuracy on Training Set: 0.5890954151177199\n",
      "Accuracy on Test Set: 0.5966303270564915\n",
      "AUC: 0.6268800094295144\n",
      "Wall time: 28.7 s\n"
     ]
    }
   ],
   "source": [
    "%%time\n",
    "param_grid = {'n_neighbors': np.arange(8, 20)}\n",
    "gs_kNN = GridSearchCV(KNeighborsClassifier(), param_grid, cv=5)\n",
    "gs_kNN.fit(X_train, y_train)\n",
    "print(\"Best Number of Neighbors:\", gs_kNN.best_params_)\n",
    "print(\"Accuracy on Training Set:\", gs_kNN.best_score_)\n",
    "\n",
    "y_pred_prob = gs_kNN.predict_proba(X_test)[:,1]\n",
    "print(\"Accuracy on Test Set:\", gs_kNN.score(X_test, y_test))\n",
    "print(\"AUC:\", roc_auc_score(y_test, y_pred_prob))"
   ]
  },
  {
   "cell_type": "markdown",
   "metadata": {},
   "source": [
    "#### Logistic Regression"
   ]
  },
  {
   "cell_type": "code",
   "execution_count": 42,
   "metadata": {},
   "outputs": [
    {
     "name": "stdout",
     "output_type": "stream",
     "text": [
      "Best Parameters: {'C': 1e-05, 'max_iter': 1000, 'tol': 10}\n",
      "Accuracy on Training Set: 0.5568773234200742\n",
      "Accuracy on Test Set: 0.55599603567889\n",
      "AUC: 0.5666234480590917\n",
      "Wall time: 26 s\n"
     ]
    }
   ],
   "source": [
    "%%time\n",
    "param_grid = {'C': [15-6, 1e-5, 1e-4], \n",
    "              'tol': [10, 1, 0.1], \n",
    "              'max_iter': [1000, 1500]}\n",
    "gs_lr = GridSearchCV(LogisticRegression(), param_grid, cv=5)\n",
    "gs_lr.fit(X_train, y_train)\n",
    "print(\"Best Parameters:\", gs_lr.best_params_)\n",
    "print(\"Accuracy on Training Set:\", gs_lr.best_score_)\n",
    "\n",
    "y_pred_prob = gs_lr.predict_proba(X_test)[:,1]\n",
    "print(\"Accuracy on Test Set:\", gs_lr.score(X_test, y_test))\n",
    "print(\"AUC:\", roc_auc_score(y_test, y_pred_prob))"
   ]
  },
  {
   "cell_type": "markdown",
   "metadata": {},
   "source": [
    "#### SVM\n",
    "SVM takes too much time to train."
   ]
  },
  {
   "cell_type": "markdown",
   "metadata": {},
   "source": [
    "#### Random Forest"
   ]
  },
  {
   "cell_type": "code",
   "execution_count": 43,
   "metadata": {},
   "outputs": [
    {
     "name": "stdout",
     "output_type": "stream",
     "text": [
      "Best Parameters: {'max_depth': 5, 'max_features': 'auto', 'n_estimators': 150}\n",
      "Accuracy on Training Set: 0.6014869888475836\n",
      "Accuracy on Test Set: 0.6065411298315163\n",
      "AUC: 0.6523239823982399\n",
      "Wall time: 21.7 s\n"
     ]
    }
   ],
   "source": [
    "%%time\n",
    "param_grid = {'n_estimators':[50, 100, 150],\n",
    "              'max_depth': [3, 5], \n",
    "              'max_features': ['auto', 'sqrt']}\n",
    "rf = RandomForestClassifier()\n",
    "gs_rf = GridSearchCV(rf, param_grid, cv=5)\n",
    "gs_rf.fit(X_train, np.ravel(y_train))\n",
    "print(\"Best Parameters:\", gs_rf.best_params_)\n",
    "print(\"Accuracy on Training Set:\", gs_rf.best_score_)\n",
    "\n",
    "y_pred_prob = gs_rf.predict_proba(X_test)[:,1]\n",
    "print(\"Accuracy on Test Set:\", gs_rf.score(X_test, y_test))\n",
    "print(\"AUC:\", roc_auc_score(y_test, y_pred_prob))"
   ]
  },
  {
   "cell_type": "code",
   "execution_count": 44,
   "metadata": {},
   "outputs": [
    {
     "data": {
      "text/plain": [
       "0.0    576\n",
       "1.0    433\n",
       "dtype: int64"
      ]
     },
     "execution_count": 44,
     "metadata": {},
     "output_type": "execute_result"
    }
   ],
   "source": [
    "y_pred = gs_rf.predict(X_test)\n",
    "pd.Series(y_pred).value_counts()"
   ]
  },
  {
   "cell_type": "code",
   "execution_count": null,
   "metadata": {},
   "outputs": [],
   "source": []
  }
 ],
 "metadata": {
  "kernelspec": {
   "display_name": "Python 3",
   "language": "python",
   "name": "python3"
  },
  "language_info": {
   "codemirror_mode": {
    "name": "ipython",
    "version": 3
   },
   "file_extension": ".py",
   "mimetype": "text/x-python",
   "name": "python",
   "nbconvert_exporter": "python",
   "pygments_lexer": "ipython3",
   "version": "3.8.5"
  }
 },
 "nbformat": 4,
 "nbformat_minor": 2
}
